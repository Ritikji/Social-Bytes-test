{
  "nbformat": 4,
  "nbformat_minor": 0,
  "metadata": {
    "colab": {
      "provenance": []
    },
    "kernelspec": {
      "name": "python3",
      "display_name": "Python 3"
    },
    "language_info": {
      "name": "python"
    }
  },
  "cells": [
    {
      "cell_type": "markdown",
      "source": [
        "Q15. SQL Quary to get the nth highest salary from Employee table"
      ],
      "metadata": {
        "id": "zXoQ_brjlJ08"
      }
    },
    {
      "cell_type": "code",
      "execution_count": 1,
      "metadata": {
        "colab": {
          "base_uri": "https://localhost:8080/",
          "height": 53
        },
        "id": "gwr9dWAGlGkL",
        "outputId": "dbc66882-85e7-4b8b-e819-bc46f69e068b"
      },
      "outputs": [
        {
          "output_type": "execute_result",
          "data": {
            "text/plain": [
              "'\\nSELECT DISTINCT Salary\\nFROM Employee\\nORDER BY Salary DESC\\nLIMIT 1 OFFSET n - 1;\\n\\n'"
            ],
            "application/vnd.google.colaboratory.intrinsic+json": {
              "type": "string"
            }
          },
          "metadata": {},
          "execution_count": 1
        }
      ],
      "source": [
        "'''\n",
        "SELECT DISTINCT Salary\n",
        "FROM Employee\n",
        "ORDER BY Salary DESC\n",
        "LIMIT 1 OFFSET n - 1;\n",
        "\n",
        "'''"
      ]
    },
    {
      "cell_type": "code",
      "source": [],
      "metadata": {
        "id": "unc2GSVRlQ8i"
      },
      "execution_count": null,
      "outputs": []
    }
  ]
}