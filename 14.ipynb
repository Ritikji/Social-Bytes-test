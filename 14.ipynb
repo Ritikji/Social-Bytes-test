{
  "nbformat": 4,
  "nbformat_minor": 0,
  "metadata": {
    "colab": {
      "provenance": []
    },
    "kernelspec": {
      "name": "python3",
      "display_name": "Python 3"
    },
    "language_info": {
      "name": "python"
    }
  },
  "cells": [
    {
      "cell_type": "markdown",
      "source": [
        "Q14.Write an SQL query to fetch the second highest number from the \"student\" table."
      ],
      "metadata": {
        "id": "OE-qVl6nke3I"
      }
    },
    {
      "cell_type": "code",
      "execution_count": null,
      "metadata": {
        "id": "lalXWzcGkKYd"
      },
      "outputs": [],
      "source": [
        "'''\n",
        "SELECT DISTINCT Age\n",
        "FROM Student\n",
        "ORDER BY Age DESC\n",
        "LIMIT 1 OFFSET 1;\n",
        "\n",
        "'''"
      ]
    },
    {
      "cell_type": "code",
      "source": [],
      "metadata": {
        "id": "5XuGiFSikr8V"
      },
      "execution_count": null,
      "outputs": []
    }
  ]
}