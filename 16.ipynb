{
  "nbformat": 4,
  "nbformat_minor": 0,
  "metadata": {
    "colab": {
      "provenance": []
    },
    "kernelspec": {
      "name": "python3",
      "display_name": "Python 3"
    },
    "language_info": {
      "name": "python"
    }
  },
  "cells": [
    {
      "cell_type": "markdown",
      "source": [
        "Q16.Write a SQL query to find the median salary of each company.?"
      ],
      "metadata": {
        "id": "kvOM7eCvlpo2"
      }
    },
    {
      "cell_type": "code",
      "execution_count": 1,
      "metadata": {
        "colab": {
          "base_uri": "https://localhost:8080/",
          "height": 105
        },
        "id": "k0jEMxaAlcZv",
        "outputId": "1e61f822-7542-4026-befa-42c65182f2c0"
      },
      "outputs": [
        {
          "output_type": "execute_result",
          "data": {
            "text/plain": [
              "'\\nSELECT Company, \\n       AVG(Salary) AS MedianSalary\\nFROM (\\n    SELECT Company, \\n           Salary,\\n           ROW_NUMBER() OVER (PARTITION BY Company ORDER BY Salary) AS RowAsc,\\n           ROW_NUMBER() OVER (PARTITION BY Company ORDER BY Salary DESC) AS RowDesc\\n    FROM Employee\\n) Ranked\\nWHERE RowAsc = RowDesc\\n   OR RowAsc + 1 = RowDesc\\n   OR RowAsc = RowDesc + 1\\nGROUP BY Company;\\n\\n'"
            ],
            "application/vnd.google.colaboratory.intrinsic+json": {
              "type": "string"
            }
          },
          "metadata": {},
          "execution_count": 1
        }
      ],
      "source": [
        "'''\n",
        "SELECT Company,\n",
        "       AVG(Salary) AS MedianSalary\n",
        "FROM (\n",
        "    SELECT Company,\n",
        "           Salary,\n",
        "           ROW_NUMBER() OVER (PARTITION BY Company ORDER BY Salary) AS RowAsc,\n",
        "           ROW_NUMBER() OVER (PARTITION BY Company ORDER BY Salary DESC) AS RowDesc\n",
        "    FROM Employee\n",
        ") Ranked\n",
        "WHERE RowAsc = RowDesc\n",
        "   OR RowAsc + 1 = RowDesc\n",
        "   OR RowAsc = RowDesc + 1\n",
        "GROUP BY Company;\n",
        "\n",
        "'''"
      ]
    },
    {
      "cell_type": "code",
      "source": [],
      "metadata": {
        "id": "79iuk7HVlzEy"
      },
      "execution_count": null,
      "outputs": []
    }
  ]
}