{
  "nbformat": 4,
  "nbformat_minor": 0,
  "metadata": {
    "colab": {
      "provenance": []
    },
    "kernelspec": {
      "name": "python3",
      "display_name": "Python 3"
    },
    "language_info": {
      "name": "python"
    }
  },
  "cells": [
    {
      "cell_type": "markdown",
      "source": [
        "Q13.  Write an SQL query to retrieve the names and addresses of all persons from the \"Person\" table along with their corresponding addresses from the \"Address\" table."
      ],
      "metadata": {
        "id": "OUXABiv_jhzG"
      }
    },
    {
      "cell_type": "code",
      "execution_count": 1,
      "metadata": {
        "colab": {
          "base_uri": "https://localhost:8080/",
          "height": 53
        },
        "id": "Mf24ntcFjfPg",
        "outputId": "15408826-4554-420f-8387-dce45f44ce95"
      },
      "outputs": [
        {
          "output_type": "execute_result",
          "data": {
            "text/plain": [
              "'\\nSELECT p.Name, a.Address\\nFROM Person p\\nJOIN Address a ON p.person_id = a.person_id;\\n\\n'"
            ],
            "application/vnd.google.colaboratory.intrinsic+json": {
              "type": "string"
            }
          },
          "metadata": {},
          "execution_count": 1
        }
      ],
      "source": [
        "'''\n",
        "SELECT p.Name, a.Address\n",
        "FROM Person p\n",
        "JOIN Address a ON p.person_id = a.person_id;\n",
        "\n",
        "'''"
      ]
    },
    {
      "cell_type": "code",
      "source": [],
      "metadata": {
        "id": "Xal8k19Ojroe"
      },
      "execution_count": null,
      "outputs": []
    }
  ]
}