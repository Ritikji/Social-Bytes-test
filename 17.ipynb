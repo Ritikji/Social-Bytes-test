{
  "nbformat": 4,
  "nbformat_minor": 0,
  "metadata": {
    "colab": {
      "provenance": []
    },
    "kernelspec": {
      "name": "python3",
      "display_name": "Python 3"
    },
    "language_info": {
      "name": "python"
    }
  },
  "cells": [
    {
      "cell_type": "markdown",
      "source": [
        "Q17.Write a SQL to get the cumulative sum of an employee’s salary over a period of 3 month but exclude the most recent month? The result should be display by id ascending and then by month decending ?"
      ],
      "metadata": {
        "id": "zoQTaRCKmKYk"
      }
    },
    {
      "cell_type": "code",
      "execution_count": null,
      "metadata": {
        "id": "8_5emf0Yl5HS"
      },
      "outputs": [],
      "source": [
        "'''\n",
        "WITH RankedSalaries AS (\n",
        "    SELECT\n",
        "        ID,\n",
        "        EXTRACT(YEAR FROM SalaryDate) AS SalaryYear,\n",
        "        EXTRACT(MONTH FROM SalaryDate) AS SalaryMonth,\n",
        "        Salary,\n",
        "        ROW_NUMBER() OVER (PARTITION BY ID ORDER BY SalaryDate DESC) AS RowNum\n",
        "    FROM EmployeeSalary\n",
        ")\n",
        "SELECT\n",
        "    rs.ID,\n",
        "    rs.SalaryYear,\n",
        "    rs.SalaryMonth,\n",
        "    rs.Salary,\n",
        "    SUM(rs.Salary) OVER (PARTITION BY rs.ID ORDER BY rs.SalaryYear ASC, rs.SalaryMonth DESC ROWS BETWEEN UNBOUNDED PRECEDING AND 1 PRECEDING) AS CumulativeSalary\n",
        "FROM RankedSalaries rs\n",
        "WHERE rs.RowNum <= 3\n",
        "ORDER BY rs.ID ASC, rs.SalaryYear ASC, rs.SalaryMonth DESC;\n",
        "\n",
        "'''"
      ]
    },
    {
      "cell_type": "code",
      "source": [],
      "metadata": {
        "id": "o3zMhXypmRmI"
      },
      "execution_count": null,
      "outputs": []
    }
  ]
}