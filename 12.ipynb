{
  "nbformat": 4,
  "nbformat_minor": 0,
  "metadata": {
    "colab": {
      "provenance": []
    },
    "kernelspec": {
      "name": "python3",
      "display_name": "Python 3"
    },
    "language_info": {
      "name": "python"
    }
  },
  "cells": [
    {
      "cell_type": "markdown",
      "source": [
        "Q12. Write an SQL query to find the youngest student in the \"student\" table ?"
      ],
      "metadata": {
        "id": "3h3dHy46ik9Y"
      }
    },
    {
      "cell_type": "code",
      "execution_count": 1,
      "metadata": {
        "colab": {
          "base_uri": "https://localhost:8080/",
          "height": 36
        },
        "id": "pxX9Wx8Zifds",
        "outputId": "29246794-815d-4935-c531-3b48435fee39"
      },
      "outputs": [
        {
          "output_type": "execute_result",
          "data": {
            "text/plain": [
              "'\\nSELECT Name, Age\\nFROM Student\\nORDER BY Age ASC\\nLIMIT 1;\\n\\n'"
            ],
            "application/vnd.google.colaboratory.intrinsic+json": {
              "type": "string"
            }
          },
          "metadata": {},
          "execution_count": 1
        }
      ],
      "source": [
        "'''\n",
        "SELECT Name, Age\n",
        "FROM Student\n",
        "ORDER BY Age ASC\n",
        "LIMIT 1;\n",
        "\n",
        "'''"
      ]
    },
    {
      "cell_type": "code",
      "source": [],
      "metadata": {
        "id": "p2YZEEvZisKl"
      },
      "execution_count": null,
      "outputs": []
    }
  ]
}