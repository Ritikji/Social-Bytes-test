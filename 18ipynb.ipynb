{
  "nbformat": 4,
  "nbformat_minor": 0,
  "metadata": {
    "colab": {
      "provenance": []
    },
    "kernelspec": {
      "name": "python3",
      "display_name": "Python 3"
    },
    "language_info": {
      "name": "python"
    }
  },
  "cells": [
    {
      "cell_type": "markdown",
      "source": [
        "Q18.Write the Query to find the Shortest Distance in Plane"
      ],
      "metadata": {
        "id": "0rUyTJLnmnww"
      }
    },
    {
      "cell_type": "code",
      "execution_count": 1,
      "metadata": {
        "colab": {
          "base_uri": "https://localhost:8080/",
          "height": 88
        },
        "id": "41FUT08-mZFM",
        "outputId": "5f1123ef-68f3-40ed-b265-dcfbf6b753a4"
      },
      "outputs": [
        {
          "output_type": "execute_result",
          "data": {
            "text/plain": [
              "'\\nSELECT \\n    point1.x AS x1,\\n    point1.y AS y1,\\n    point2.x AS x2,\\n    point2.y AS y2,\\n    SQRT(POW(point2.x - point1.x, 2) + POW(point2.y - point1.y, 2)) AS shortest_distance\\nFROM\\n    points point1\\nCROSS JOIN\\n    points point2\\nWHERE\\n    point1.id <> point2.id\\nORDER BY\\n    shortest_distance ASC\\nLIMIT 1;\\n\\n'"
            ],
            "application/vnd.google.colaboratory.intrinsic+json": {
              "type": "string"
            }
          },
          "metadata": {},
          "execution_count": 1
        }
      ],
      "source": [
        "'''\n",
        "SELECT\n",
        "    point1.x AS x1,\n",
        "    point1.y AS y1,\n",
        "    point2.x AS x2,\n",
        "    point2.y AS y2,\n",
        "    SQRT(POW(point2.x - point1.x, 2) + POW(point2.y - point1.y, 2)) AS shortest_distance\n",
        "FROM\n",
        "    points point1\n",
        "CROSS JOIN\n",
        "    points point2\n",
        "WHERE\n",
        "    point1.id <> point2.id\n",
        "ORDER BY\n",
        "    shortest_distance ASC\n",
        "LIMIT 1;\n",
        "\n",
        "'''"
      ]
    },
    {
      "cell_type": "code",
      "source": [],
      "metadata": {
        "id": "tlMdua2qm0iU"
      },
      "execution_count": null,
      "outputs": []
    }
  ]
}