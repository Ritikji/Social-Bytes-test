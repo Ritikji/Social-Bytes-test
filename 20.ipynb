{
  "nbformat": 4,
  "nbformat_minor": 0,
  "metadata": {
    "colab": {
      "provenance": []
    },
    "kernelspec": {
      "name": "python3",
      "display_name": "Python 3"
    },
    "language_info": {
      "name": "python"
    }
  },
  "cells": [
    {
      "cell_type": "markdown",
      "source": [
        "Q20.Consider a database schema that represents an online bookstore with two tables: books and orders. The books table has columns: book_id, title, author, price, and stock_quantity. The orders table has columns: order_id, book_id, quantity, and order_date.Write an SQL query to find the top 3 bestselling products in terms of total quantity sold, along with their names and total quantities sold"
      ],
      "metadata": {
        "id": "X0fQ9H7Knlu9"
      }
    },
    {
      "cell_type": "code",
      "execution_count": 1,
      "metadata": {
        "id": "p9atSkwwnbsk",
        "outputId": "ed5a14ec-5005-4187-bde2-c51964c2f712",
        "colab": {
          "base_uri": "https://localhost:8080/",
          "height": 70
        }
      },
      "outputs": [
        {
          "output_type": "execute_result",
          "data": {
            "text/plain": [
              "'\\nSELECT\\n    b.title AS product_name,\\n    SUM(o.quantity) AS total_quantity_sold\\nFROM\\n    books b\\nJOIN\\n    orders o ON b.book_id = o.book_id\\nGROUP BY\\n    b.title\\nORDER BY\\n    total_quantity_sold DESC\\nLIMIT 3;\\n\\n'"
            ],
            "application/vnd.google.colaboratory.intrinsic+json": {
              "type": "string"
            }
          },
          "metadata": {},
          "execution_count": 1
        }
      ],
      "source": [
        "'''\n",
        "SELECT\n",
        "    b.title AS product_name,\n",
        "    SUM(o.quantity) AS total_quantity_sold\n",
        "FROM\n",
        "    books b\n",
        "JOIN\n",
        "    orders o ON b.book_id = o.book_id\n",
        "GROUP BY\n",
        "    b.title\n",
        "ORDER BY\n",
        "    total_quantity_sold DESC\n",
        "LIMIT 3;\n",
        "\n",
        "'''"
      ]
    },
    {
      "cell_type": "code",
      "source": [],
      "metadata": {
        "id": "5n-mWFqsn2Lm"
      },
      "execution_count": null,
      "outputs": []
    }
  ]
}