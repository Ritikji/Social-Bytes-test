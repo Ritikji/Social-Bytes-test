{
  "nbformat": 4,
  "nbformat_minor": 0,
  "metadata": {
    "colab": {
      "provenance": []
    },
    "kernelspec": {
      "name": "python3",
      "display_name": "Python 3"
    },
    "language_info": {
      "name": "python"
    }
  },
  "cells": [
    {
      "cell_type": "markdown",
      "source": [
        "Q19. Consider a database with two tables: \"Orders\" and \"Customers.\" Write an SQL query to retrieve the top 5 customers who have made the most orders, along with the total count of their orders. Display the results in descending order of the order count and ascending order of customer names."
      ],
      "metadata": {
        "id": "ySqaq-2_nIfB"
      }
    },
    {
      "cell_type": "code",
      "execution_count": null,
      "metadata": {
        "id": "2yLia64Um8ql"
      },
      "outputs": [],
      "source": [
        "'''\n",
        "SELECT\n",
        "    c.CustomerName,\n",
        "    COUNT(o.OrderID) AS OrderCount\n",
        "FROM\n",
        "    Customers c\n",
        "JOIN\n",
        "    Orders o ON c.CustomerID = o.CustomerID\n",
        "GROUP BY\n",
        "    c.CustomerName\n",
        "ORDER BY\n",
        "    OrderCount DESC, c.CustomerName ASC\n",
        "LIMIT 5;\n",
        "\n",
        "'''"
      ]
    },
    {
      "cell_type": "code",
      "source": [],
      "metadata": {
        "id": "UusXjhAsnS8g"
      },
      "execution_count": null,
      "outputs": []
    }
  ]
}