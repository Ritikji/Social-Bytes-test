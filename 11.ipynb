{
  "nbformat": 4,
  "nbformat_minor": 0,
  "metadata": {
    "colab": {
      "provenance": []
    },
    "kernelspec": {
      "name": "python3",
      "display_name": "Python 3"
    },
    "language_info": {
      "name": "python"
    }
  },
  "cells": [
    {
      "cell_type": "markdown",
      "source": [
        "Q11. Create Student Table with ID as Primary Key and NOT NULL , Name as 20 Characters ,Age as Int value both are NOT NULL and Address have  25 charter And Insert Any 5 Records?  "
      ],
      "metadata": {
        "id": "cokaOL3GhrCi"
      }
    },
    {
      "cell_type": "code",
      "execution_count": 1,
      "metadata": {
        "colab": {
          "base_uri": "https://localhost:8080/",
          "height": 122
        },
        "id": "FUXL9C1KhqDa",
        "outputId": "d898e2ae-591e-4976-f49e-21755d3c9105"
      },
      "outputs": [
        {
          "output_type": "execute_result",
          "data": {
            "text/plain": [
              "\"\\n-- Create the Student table\\nCREATE TABLE Student (\\n    ID INT PRIMARY KEY NOT NULL,\\n    Name VARCHAR(20) NOT NULL,\\n    Age INT NOT NULL,\\n    Address VARCHAR(25)\\n);\\n\\n-- Insert records into the Student table\\nINSERT INTO Student (ID, Name, Age, Address)\\nVALUES (1, 'Alice', 20, '123 Main St'),\\n       (2, 'Bob', 22, '456 Elm St'),\\n       (3, 'Carol', 21, '789 Oak Ave'),\\n       (4, 'David', 23, '567 Pine Rd'),\\n       (5, 'Eve', 19, '901 Maple Dr');\\n\\n\""
            ],
            "application/vnd.google.colaboratory.intrinsic+json": {
              "type": "string"
            }
          },
          "metadata": {},
          "execution_count": 1
        }
      ],
      "source": [
        "'''\n",
        "-- Create the Student table\n",
        "CREATE TABLE Student (\n",
        "    ID INT PRIMARY KEY NOT NULL,\n",
        "    Name VARCHAR(20) NOT NULL,\n",
        "    Age INT NOT NULL,\n",
        "    Address VARCHAR(25)\n",
        ");\n",
        "\n",
        "-- Insert records into the Student table\n",
        "INSERT INTO Student (ID, Name, Age, Address)\n",
        "VALUES (1, 'Alice', 20, '123 Main St'),\n",
        "       (2, 'Bob', 22, '456 Elm St'),\n",
        "       (3, 'Carol', 21, '789 Oak Ave'),\n",
        "       (4, 'David', 23, '567 Pine Rd'),\n",
        "       (5, 'Eve', 19, '901 Maple Dr');\n",
        "\n",
        "'''"
      ]
    },
    {
      "cell_type": "code",
      "source": [],
      "metadata": {
        "id": "BcHLiKdMiBbn"
      },
      "execution_count": null,
      "outputs": []
    }
  ]
}